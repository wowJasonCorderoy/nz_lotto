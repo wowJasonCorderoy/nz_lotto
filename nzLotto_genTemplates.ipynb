{
  "nbformat": 4,
  "nbformat_minor": 0,
  "metadata": {
    "colab": {
      "name": "nzLotto_genTemplates.ipynb",
      "provenance": [],
      "collapsed_sections": []
    },
    "kernelspec": {
      "name": "python3",
      "display_name": "Python 3"
    },
    "language_info": {
      "name": "python"
    }
  },
  "cells": [
    {
      "cell_type": "code",
      "metadata": {
        "id": "snEnQVczSSu4"
      },
      "source": [
        "## Process:\n",
        "# duplicate sheet1 of a gsheet by ID : templateGsheetID e.g. https://docs.google.com/spreadsheets/d/1ps54IsLGHaExDOfOOr6lYKzPuHmVKKvda1VBZXKE-UI/edit#gid=0 ID = 1ps54IsLGHaExDOfOOr6lYKzPuHmVKKvda1VBZXKE-UI\n",
        "# Import data from a store list gsheet (storeListGsheetID). This has columns for store number, store name and email addresses (semicolon ; separated) for respective site sheet to be shared with for edit purposes.\n",
        "# input initial_date, weeks to run (likely 52 or 53), List of all email addresses to give edit access to all store gsheets (peepsWithEditAccess).\n",
        "# input m_email_message is None if no email is to be send else a string to be emailed along with notification when shared e.g. 'Hey there check out this fancy new nz lotto gsheet'\n",
        "\n",
        "##\n",
        "# Go to inputs cell and review/update these variables:\n",
        "# templateGsheetID, storeListGsheetID, peepsWithEditAccess, initial_date, weeks2Run, m_email_message\n"
      ],
      "execution_count": null,
      "outputs": []
    },
    {
      "cell_type": "code",
      "metadata": {
        "colab": {
          "base_uri": "https://localhost:8080/"
        },
        "id": "NnUbo1eKuqWW",
        "outputId": "d9c3e37f-1b78-4939-af24-2480350ca6cb"
      },
      "source": [
        "from google.colab import auth\n",
        "auth.authenticate_user()\n",
        "print('Authenticated')\n",
        "\n",
        "from google.colab import drive\n",
        "drive.mount('/content/drive')\n"
      ],
      "execution_count": null,
      "outputs": [
        {
          "output_type": "stream",
          "text": [
            "Authenticated\n",
            "Mounted at /content/drive\n"
          ],
          "name": "stdout"
        }
      ]
    },
    {
      "cell_type": "code",
      "metadata": {
        "colab": {
          "base_uri": "https://localhost:8080/"
        },
        "id": "2oodDHUfr-61",
        "outputId": "a7adf175-b1c8-41ad-9b93-d5fb88ce2552"
      },
      "source": [
        "!pip install gspread --upgrade # Uninstall gspread-3.0.1 with 3.7.0\n",
        "import gspread\n",
        "from gspread.models import Cell, Spreadsheet\n",
        "from oauth2client.client import GoogleCredentials as GC\n",
        "import random\n",
        "import string\n",
        "from datetime import date, time, datetime, timedelta\n",
        "gs_ = gspread.authorize(GC.get_application_default())"
      ],
      "execution_count": null,
      "outputs": [
        {
          "output_type": "stream",
          "text": [
            "Collecting gspread\n",
            "  Downloading https://files.pythonhosted.org/packages/df/f0/e345e7159c89b898f183cc40ed9909619475492bb000652d709f395f096a/gspread-3.7.0-py3-none-any.whl\n",
            "Requirement already satisfied, skipping upgrade: google-auth-oauthlib>=0.4.1 in /usr/local/lib/python3.7/dist-packages (from gspread) (0.4.4)\n",
            "Requirement already satisfied, skipping upgrade: google-auth>=1.12.0 in /usr/local/lib/python3.7/dist-packages (from gspread) (1.30.0)\n",
            "Requirement already satisfied, skipping upgrade: requests-oauthlib>=0.7.0 in /usr/local/lib/python3.7/dist-packages (from google-auth-oauthlib>=0.4.1->gspread) (1.3.0)\n",
            "Requirement already satisfied, skipping upgrade: pyasn1-modules>=0.2.1 in /usr/local/lib/python3.7/dist-packages (from google-auth>=1.12.0->gspread) (0.2.8)\n",
            "Requirement already satisfied, skipping upgrade: rsa<5,>=3.1.4; python_version >= \"3.6\" in /usr/local/lib/python3.7/dist-packages (from google-auth>=1.12.0->gspread) (4.7.2)\n",
            "Requirement already satisfied, skipping upgrade: six>=1.9.0 in /usr/local/lib/python3.7/dist-packages (from google-auth>=1.12.0->gspread) (1.15.0)\n",
            "Requirement already satisfied, skipping upgrade: cachetools<5.0,>=2.0.0 in /usr/local/lib/python3.7/dist-packages (from google-auth>=1.12.0->gspread) (4.2.2)\n",
            "Requirement already satisfied, skipping upgrade: setuptools>=40.3.0 in /usr/local/lib/python3.7/dist-packages (from google-auth>=1.12.0->gspread) (57.0.0)\n",
            "Requirement already satisfied, skipping upgrade: requests>=2.0.0 in /usr/local/lib/python3.7/dist-packages (from requests-oauthlib>=0.7.0->google-auth-oauthlib>=0.4.1->gspread) (2.23.0)\n",
            "Requirement already satisfied, skipping upgrade: oauthlib>=3.0.0 in /usr/local/lib/python3.7/dist-packages (from requests-oauthlib>=0.7.0->google-auth-oauthlib>=0.4.1->gspread) (3.1.0)\n",
            "Requirement already satisfied, skipping upgrade: pyasn1<0.5.0,>=0.4.6 in /usr/local/lib/python3.7/dist-packages (from pyasn1-modules>=0.2.1->google-auth>=1.12.0->gspread) (0.4.8)\n",
            "Requirement already satisfied, skipping upgrade: idna<3,>=2.5 in /usr/local/lib/python3.7/dist-packages (from requests>=2.0.0->requests-oauthlib>=0.7.0->google-auth-oauthlib>=0.4.1->gspread) (2.10)\n",
            "Requirement already satisfied, skipping upgrade: certifi>=2017.4.17 in /usr/local/lib/python3.7/dist-packages (from requests>=2.0.0->requests-oauthlib>=0.7.0->google-auth-oauthlib>=0.4.1->gspread) (2020.12.5)\n",
            "Requirement already satisfied, skipping upgrade: chardet<4,>=3.0.2 in /usr/local/lib/python3.7/dist-packages (from requests>=2.0.0->requests-oauthlib>=0.7.0->google-auth-oauthlib>=0.4.1->gspread) (3.0.4)\n",
            "Requirement already satisfied, skipping upgrade: urllib3!=1.25.0,!=1.25.1,<1.26,>=1.21.1 in /usr/local/lib/python3.7/dist-packages (from requests>=2.0.0->requests-oauthlib>=0.7.0->google-auth-oauthlib>=0.4.1->gspread) (1.24.3)\n",
            "Installing collected packages: gspread\n",
            "  Found existing installation: gspread 3.0.1\n",
            "    Uninstalling gspread-3.0.1:\n",
            "      Successfully uninstalled gspread-3.0.1\n",
            "Successfully installed gspread-3.7.0\n"
          ],
          "name": "stdout"
        }
      ]
    },
    {
      "cell_type": "code",
      "metadata": {
        "id": "j8DlfRiD0hVR"
      },
      "source": [
        "def getGworkbook(ref, client):\n",
        "  \"\"\"\n",
        "  ref: is a gsheet url or key\n",
        "  \"\"\"\n",
        "  try:\n",
        "    return client.open_by_url(ref)\n",
        "  except:\n",
        "    return client.open_by_key(ref)\n",
        "\n",
        "def genFileName(N):\n",
        "  # import random\n",
        "  # import string\n",
        "  return ''.join(random.choice(string.ascii_uppercase + string.digits) for _ in range(N))\n",
        "\n",
        "def genWeekEndingsList(initDate, n=52, ascending=True):\n",
        "  ll = list()\n",
        "  ll.append(initDate)\n",
        "  if ascending:\n",
        "    inc_=7\n",
        "  else:\n",
        "    inc_=-7\n",
        "  for i in range(n):\n",
        "    dateDiff = timedelta(days=inc_*(i+1))\n",
        "    date2Append = initDate+dateDiff\n",
        "    ll.append(date2Append)\n",
        "  return ll\n",
        "\n",
        "# def addSheetsToSpreadsheet(gs_spreadsheet,newSheetNames,source_sheet_id=0):\n",
        "#   for i in range(1,len(newSheetNames)):\n",
        "#     gs_spreadsheet.duplicate_sheet(source_sheet_id=source_sheet_id, insert_sheet_index=i, new_sheet_id=i, new_sheet_name=newSheetNames[i-1])\n",
        "\n",
        "\n",
        "def addSheetToSpreadsheet(gs_spreadsheet,source_sheet_id, insert_sheet_index, new_sheet_id, new_sheet_name):\n",
        "  gs_spreadsheet.duplicate_sheet(source_sheet_id=source_sheet_id, insert_sheet_index=insert_sheet_index, new_sheet_id=new_sheet_id, new_sheet_name=new_sheet_name)\n",
        "\n",
        "def getStoreListGsheet(gSheetID, gspreadAuth):\n",
        "  # get store list gsheet\n",
        "  import numpy as np\n",
        "  storeList_worksheet = getGworkbook(gSheetID, gspreadAuth).sheet1\n",
        "  storeList_array = np.array(storeList_worksheet.get_all_values())[1:]\n",
        "\n",
        "  store_nums = storeList_array.T[0]\n",
        "  store_gsheet_names = storeList_array.T[1]\n",
        "  store_name_in_gsheet = storeList_array.T[2]\n",
        "\n",
        "  # clean access names:\n",
        "  access_name_separator = ';'\n",
        "  cleaned_perm_emails = [x[3].split(access_name_separator) for x in storeList_array]\n",
        "\n",
        "  ll = []\n",
        "  for i in range(len(cleaned_perm_emails)):\n",
        "    ll.append( [s.strip() for s in cleaned_perm_emails[i]] )\n",
        "  cleaned_perm_emails = ll\n",
        "\n",
        "  return store_nums, store_gsheet_names, cleaned_perm_emails\n",
        "\n",
        "def protectSheetExceptSpecificRange(spreadsheet, sheetId, CanEditEmailAddress):\n",
        "  # https://stackoverflow.com/questions/67896599/gspread-protect-sheet-except-certain-cells\n",
        "  body = {\n",
        "      \"requests\": [\n",
        "          {\n",
        "              \"addProtectedRange\": {\n",
        "                  \"protectedRange\": {\n",
        "                      \"range\": {\n",
        "                          \"sheetId\": sheetId\n",
        "                      },\n",
        "                      \"unprotectedRanges\": [\n",
        "                          { # c6:c26\n",
        "                              \"sheetId\": sheetId,\n",
        "                              \"startRowIndex\": 5,\n",
        "                              \"endRowIndex\": 26,\n",
        "                              \"startColumnIndex\": 2,\n",
        "                              \"endColumnIndex\": 3\n",
        "                          },\n",
        "                          { # f4\n",
        "                              \"sheetId\": sheetId,\n",
        "                              \"startRowIndex\": 3,\n",
        "                              \"endRowIndex\": 4,\n",
        "                              \"startColumnIndex\": 5,\n",
        "                              \"endColumnIndex\": 6\n",
        "                          },\n",
        "                          { # f6:f12\n",
        "                              \"sheetId\": sheetId,\n",
        "                              \"startRowIndex\": 5,\n",
        "                              \"endRowIndex\": 12,\n",
        "                              \"startColumnIndex\": 5,\n",
        "                              \"endColumnIndex\": 6\n",
        "                          },\n",
        "                          { # f21:f29\n",
        "                              \"sheetId\": sheetId,\n",
        "                              \"startRowIndex\": 20,\n",
        "                              \"endRowIndex\": 29,\n",
        "                              \"startColumnIndex\": 5,\n",
        "                              \"endColumnIndex\": 6\n",
        "                          }\n",
        "                      ],\n",
        "                      \"editors\": {\n",
        "                          \"domainUsersCanEdit\": False,\n",
        "                          \"users\": CanEditEmailAddress\n",
        "                      },\n",
        "                      \"warningOnly\": False\n",
        "                  }\n",
        "              }\n",
        "          }\n",
        "      ]\n",
        "  }\n",
        "  spreadsheet.batch_update(body)\n",
        "\n"
      ],
      "execution_count": null,
      "outputs": []
    },
    {
      "cell_type": "code",
      "metadata": {
        "id": "xwN7iPBLwly7"
      },
      "source": [
        "## inputs\n",
        "templateGsheetID = '1y5Z7NCPqurNspvoujACE7F1qLLbe5IqWNFRXPI0IWgc' # this is the ID of the template gsheet\n",
        "initial_date = date(year=2021, month=7, day=6)\n",
        "weeks2Run = 52\n",
        "\n",
        "storeListGsheetID = '1CgaChSWW1H1O_uyqHjtK-dbGX63KbebT93WUSWmDsXQ' # this is the store list gsheet ID - with store numbers, store names and permission emails\n",
        "\n",
        "peepsWithEditAccess = ['kherrmann@woolworths.com.au', 'kmaidment@woolworths.com.au','lagius@woolworths.com.au','mmarino@woolworths.com.au']\n",
        "\n",
        "m_email_message = None\n"
      ],
      "execution_count": null,
      "outputs": []
    },
    {
      "cell_type": "code",
      "metadata": {
        "id": "FyoekSr7QQez"
      },
      "source": [
        "we_dates = genWeekEndingsList(initial_date,n=weeks2Run, ascending=True)\n",
        "we_dates_str = [str(x) for x in we_dates]"
      ],
      "execution_count": null,
      "outputs": []
    },
    {
      "cell_type": "code",
      "metadata": {
        "id": "zMOa07Tp06pR"
      },
      "source": [
        "# get template gsheet\n",
        "template_wb = getGworkbook(templateGsheetID, gs_)\n",
        "\n",
        "## get store list gsheet\n",
        "store_nums, store_gsheet_names, cleaned_perm_emails = getStoreListGsheet(gSheetID=storeListGsheetID, gspreadAuth=gs_)\n"
      ],
      "execution_count": null,
      "outputs": []
    },
    {
      "cell_type": "code",
      "metadata": {
        "id": "IIdCs0TgFpYO",
        "colab": {
          "base_uri": "https://localhost:8080/"
        },
        "outputId": "d7118010-10b7-42f3-bc29-16ab1b98482c"
      },
      "source": [
        "# Create a new template file:\n",
        "# add a new sheet 1 for each week\n",
        "# and update + protect range\n",
        "\n",
        "# create new template sheet which will be correctly structured and will act as our new template to duplicate later (instead of running entire process for each stores gsheet)\n",
        "client = gspread.authorize(GC.get_application_default())\n",
        "\n",
        "fName = \"script_generated_template_file\"\n",
        "## create new file as copy of template\n",
        "newTemplateGsheet = client.copy(templateGsheetID, title=fName, copy_permissions=True)\n",
        "\n",
        "for i in range(1,len(we_dates_str)):\n",
        "  i_we_dates_str = we_dates_str[i-1]\n",
        "  addSheetToSpreadsheet(gs_spreadsheet=newTemplateGsheet,source_sheet_id=0, insert_sheet_index=i, new_sheet_id=i, new_sheet_name=i_we_dates_str)\n",
        "  worksheet = newTemplateGsheet.worksheet(i_we_dates_str)\n",
        "\n",
        "  # update date in sheet\n",
        "  worksheet.update_acell('F2', i_we_dates_str)\n",
        "\n",
        "  protectSheetExceptSpecificRange(spreadsheet=newTemplateGsheet, sheetId=worksheet.id, CanEditEmailAddress=peepsWithEditAccess)\n",
        "  \n",
        "# delete Sheet1 from the new template gsheet\n",
        "newTemplateGsheet.del_worksheet(newTemplateGsheet.sheet1)\n",
        "\n"
      ],
      "execution_count": null,
      "outputs": [
        {
          "output_type": "execute_result",
          "data": {
            "text/plain": [
              "{'replies': [{}],\n",
              " 'spreadsheetId': '11jbV7TKezkj-gT5earsqx_A9EpH3qHYuByIzmYP4XZg'}"
            ]
          },
          "metadata": {
            "tags": []
          },
          "execution_count": 17
        }
      ]
    },
    {
      "cell_type": "code",
      "metadata": {
        "id": "IkDCdf6p0C5L"
      },
      "source": [
        "# Duplicate new template workbook per store\n",
        "# plus share it\n",
        "\n",
        "for sn in range(len(store_nums)):\n",
        "  c_store_nums, c_store_gsheet_names, c_cleaned_perm_emails = store_nums[sn], store_gsheet_names[sn], cleaned_perm_emails[sn]\n",
        "  \n",
        "  fName = c_store_gsheet_names\n",
        "  ## create new file as copy of template\n",
        "  tempSiteSheet = client.copy(newTemplateGsheet.id, title=fName, copy_permissions=True)\n",
        "\n",
        "  for i in range(1,len(we_dates_str)):\n",
        "    i_we_dates_str = we_dates_str[i-1]\n",
        "    worksheet = tempSiteSheet.worksheet(i_we_dates_str)\n",
        "    # update store number in sheet\n",
        "    worksheet.update_acell('B3', c_store_nums)\n",
        "  \n",
        "  # share the sheet\n",
        "  for permUser in range(len(c_cleaned_perm_emails)):\n",
        "    currentUser = c_cleaned_perm_emails[permUser]\n",
        "    worksheet.spreadsheet.share(currentUser, perm_type='user', role='writer', notify=True, email_message=m_email_message, with_link=False)\n",
        "\n"
      ],
      "execution_count": null,
      "outputs": []
    }
  ]
}